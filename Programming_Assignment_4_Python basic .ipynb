{
 "cells": [
  {
   "cell_type": "code",
   "execution_count": null,
   "id": "dda99cdc",
   "metadata": {},
   "outputs": [],
   "source": [
    "#1.\n",
    "k = 1\n",
    "n = int(input(\"enter a number :\"))\n",
    "for i in range(1,n+1):\n",
    "    k = k*i\n",
    "print(k)"
   ]
  },
  {
   "cell_type": "code",
   "execution_count": null,
   "id": "e2cc6de8",
   "metadata": {},
   "outputs": [],
   "source": [
    "#2.\n",
    "\n",
    "n = int(input(\"enter a number :\"))\n",
    "for i in range(1,11):\n",
    "    k = i*n\n",
    "    print(k)"
   ]
  },
  {
   "cell_type": "code",
   "execution_count": null,
   "id": "efefa7e2",
   "metadata": {},
   "outputs": [],
   "source": [
    "#3.\n",
    "\n",
    "n = int(input(\"enter max number :\"))\n",
    "a=0\n",
    "b=1\n",
    "if n <0:\n",
    "    pass\n",
    "if n >= 0:\n",
    "    print(a)\n",
    "if n >=1:\n",
    "    print(b)\n",
    "    for i in range(1,n):      \n",
    "        c=a+b\n",
    "        a=b\n",
    "        b=c\n",
    "        print(b)"
   ]
  },
  {
   "cell_type": "code",
   "execution_count": null,
   "id": "ae28179b",
   "metadata": {},
   "outputs": [],
   "source": [
    "#4.\n",
    "\n",
    "num = int(input(\"Enter a number: \"))\n",
    "k = len(str(num)) \n",
    "m = num\n",
    "add_sum = 0\n",
    "while m !=0:\n",
    "    t = m %10\n",
    "    add_sum += t**k\n",
    "    m = m//10\n",
    "if add_sum == num:\n",
    "    print(num ,' is Armstrong number')\n",
    "else:\n",
    "    print(num,\"is not Armstrong number\")"
   ]
  },
  {
   "cell_type": "code",
   "execution_count": null,
   "id": "eca7fcc1",
   "metadata": {},
   "outputs": [],
   "source": [
    "#5.\n",
    "\n",
    "num1= int(input(\"Enter lower number: \"))\n",
    "num2= int(input(\"Enter uppar number: \"))\n",
    "for num in range(num1,num2+1):\n",
    "    k = len(str(num)) \n",
    "    m = num\n",
    "    add_sum = 0\n",
    "    while m !=0:\n",
    "        t = m %10\n",
    "        add_sum += t**k\n",
    "        m = m//10\n",
    "    if add_sum == num:\n",
    "        print(num ,' is Armstrong number')\n",
    "    else:\n",
    "        pass"
   ]
  },
  {
   "cell_type": "code",
   "execution_count": null,
   "id": "421b95ef",
   "metadata": {},
   "outputs": [],
   "source": [
    "#6.\n",
    "\n",
    "n = int(input(\"Enter a number: \"))\n",
    "sum_num = n*(n+1)/2\n",
    "print(sum_num)"
   ]
  }
 ],
 "metadata": {
  "kernelspec": {
   "display_name": "Python 3 (ipykernel)",
   "language": "python",
   "name": "python3"
  },
  "language_info": {
   "codemirror_mode": {
    "name": "ipython",
    "version": 3
   },
   "file_extension": ".py",
   "mimetype": "text/x-python",
   "name": "python",
   "nbconvert_exporter": "python",
   "pygments_lexer": "ipython3",
   "version": "3.9.7"
  }
 },
 "nbformat": 4,
 "nbformat_minor": 5
}
